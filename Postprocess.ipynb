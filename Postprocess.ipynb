{
 "cells": [
  {
   "cell_type": "markdown",
   "id": "2456a564",
   "metadata": {},
   "source": [
    "# image normaliztion"
   ]
  },
  {
   "cell_type": "code",
   "execution_count": 18,
   "id": "543166ea",
   "metadata": {},
   "outputs": [],
   "source": [
    "from skimage.metrics import structural_similarity as compare_ssim\n",
    "from skimage.metrics import peak_signal_noise_ratio as psnr\n",
    "import cv2\n",
    "import argparse\n",
    "import matplotlib.pyplot as plt\n",
    "import numpy as np\n",
    "import os\n",
    "import glob\n",
    "import torch\n",
    "from torch.autograd import Variable\n",
    "from utils import *\n",
    "from networks import *\n",
    "import time \n",
    "\n",
    "test_path = './results/Denoised_Inference_5'\n",
    "save_path = './results/denoised_5_norm'\n",
    "file_list = os.listdir(test_path)\n",
    "\n",
    "for name in file_list:\n",
    "    test = cv2.imread(os.path.join(test_path, name))\n",
    "    img_norm = cv2.normalize(test, None, 12, 150, cv2.NORM_MINMAX)\n",
    "    cv2.imwrite(f'{save_path}/{name}', img_norm)"
   ]
  }
 ],
 "metadata": {
  "kernelspec": {
   "display_name": "Python 3.9.12 ('base': conda)",
   "language": "python",
   "name": "python3"
  },
  "language_info": {
   "codemirror_mode": {
    "name": "ipython",
    "version": 3
   },
   "file_extension": ".py",
   "mimetype": "text/x-python",
   "name": "python",
   "nbconvert_exporter": "python",
   "pygments_lexer": "ipython3",
   "version": "3.9.12"
  },
  "vscode": {
   "interpreter": {
    "hash": "61a57a4b5406d2de388e2f91097d4e4bcd7d5f4a46f53a795aa28a02eed27fc5"
   }
  }
 },
 "nbformat": 4,
 "nbformat_minor": 5
}
