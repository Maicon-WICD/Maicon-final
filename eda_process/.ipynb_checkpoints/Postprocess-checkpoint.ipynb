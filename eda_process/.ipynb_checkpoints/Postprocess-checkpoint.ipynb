{
 "cells": [
  {
   "cell_type": "markdown",
   "id": "7c6944fa",
   "metadata": {},
   "source": [
    "# Channel Shift"
   ]
  },
  {
   "cell_type": "markdown",
   "id": "94136e6f",
   "metadata": {},
   "source": [
    "### RGB shift"
   ]
  },
  {
   "cell_type": "code",
   "execution_count": null,
   "id": "7ca2fe15",
   "metadata": {},
   "outputs": [],
   "source": [
    "import cv2\n",
    "import numpy as np\n",
    "import os\n",
    "\n",
    "test_path = 'data/results/prenet3000'\n",
    "save_path = 'data/results/prenet3000_shift2'\n",
    "file_list = os.listdir(test_path)\n",
    "\n",
    "for name in file_list:\n",
    "    predict_img = cv2.imread(test_path + name)\n",
    "    predict_img[:, :, 0] = predict_img[:, :, 0] + 40\n",
    "    predict_img[:, :, 1] = predict_img[:, :, 1] + 45\n",
    "    predict_img[:, :, 2] = predict_img[:, :, 2] + 51\n",
    "    cv2.imwrite(save_path + name, predict_img)"
   ]
  },
  {
   "cell_type": "markdown",
   "id": "038ac2a0",
   "metadata": {},
   "source": [
    "### HSV shift"
   ]
  },
  {
   "cell_type": "code",
   "execution_count": null,
   "id": "327d2b05",
   "metadata": {},
   "outputs": [],
   "source": [
    "import cv2\n",
    "import numpy as np\n",
    "import os\n",
    "\n",
    "test_path = 'data/results/prenet3000'\n",
    "save_path = 'data/results/prenet3000_hsv_shift'\n",
    "file_list = os.listdir(test_path)\n",
    "\n",
    "for name in file_list:\n",
    "    predict_img = cv2.imread(test_path + name)\n",
    "    predict_img = cv2.cvtcolor(predict_img, cv2.COLOR_BGR2HSV)\n",
    "    predict_img[:, :, 1] = predict_img[:, :, 1] + 30\n",
    "    predict_img[:, :, 2] = predict_img[:, :, 2] + 110\n",
    "    cv2.imwrite(save_path + name, predict_img)"
   ]
  },
  {
   "cell_type": "markdown",
   "id": "2456a564",
   "metadata": {},
   "source": [
    "# image normaliztion"
   ]
  },
  {
   "cell_type": "code",
   "execution_count": 18,
   "id": "543166ea",
   "metadata": {},
   "outputs": [],
   "source": [
    "from skimage.metrics import structural_similarity as compare_ssim\n",
    "from skimage.metrics import peak_signal_noise_ratio as psnr\n",
    "import cv2\n",
    "import matplotlib.pyplot as plt\n",
    "import numpy as np\n",
    "import os\n",
    "import glob\n",
    "import torch\n",
    "from torch.autograd import Variable\n",
    "from utils import *\n",
    "from networks import *\n",
    "import time \n",
    "\n",
    "test_path = './results/Denoised_Inference_5'\n",
    "save_path = './results/denoised_5_norm'\n",
    "file_list = os.listdir(test_path)\n",
    "\n",
    "for name in file_list:\n",
    "    test = cv2.imread(os.path.join(test_path, name))\n",
    "    img_norm = cv2.normalize(test, None, 12, 150, cv2.NORM_MINMAX)\n",
    "    cv2.imwrite(f'{save_path}/{name}', img_norm)"
   ]
  }
 ],
 "metadata": {
  "kernelspec": {
   "display_name": "Python 3",
   "language": "python",
   "name": "python3"
  },
  "language_info": {
   "codemirror_mode": {
    "name": "ipython",
    "version": 3
   },
   "file_extension": ".py",
   "mimetype": "text/x-python",
   "name": "python",
   "nbconvert_exporter": "python",
   "pygments_lexer": "ipython3",
   "version": "3.8.8"
  },
  "vscode": {
   "interpreter": {
    "hash": "61a57a4b5406d2de388e2f91097d4e4bcd7d5f4a46f53a795aa28a02eed27fc5"
   }
  }
 },
 "nbformat": 4,
 "nbformat_minor": 5
}
